{
 "cells": [
  {
   "cell_type": "markdown",
   "metadata": {
    "id": "9hRpsy5Zp8Lr"
   },
   "source": [
    "\n",
    "## <font color=red> You should not import any new libraries. Your code should run with python=3.x</font>\n",
    "## <font color=red> Please don't rename this .ipynb file.</font><br>\n",
    "- Your solutions will be auto-graded. Hence we request you to follow the instructions.\n",
    "- Modify the code only between \n",
    "```\n",
    "## TODO\n",
    "## END TODO\n",
    "```\n",
    "- In addition to above changes, you can play with arguments to the functions for generating plots\n",
    "- We will run the auto grading scripts with private test data"
   ]
  },
  {
   "cell_type": "code",
   "execution_count": 5,
   "metadata": {
    "id": "mBBZWQn3WjsN"
   },
   "outputs": [],
   "source": [
    "import numpy as np\n",
    "from matplotlib import pyplot as plt\n",
    "import math"
   ]
  },
  {
   "cell_type": "markdown",
   "metadata": {
    "id": "kxgQgosmYXRu"
   },
   "source": [
    "##LOAD DATA"
   ]
  },
  {
   "cell_type": "code",
   "execution_count": 6,
   "metadata": {
    "id": "TSk_qe4RXFYz"
   },
   "outputs": [],
   "source": [
    "X = np.load('./data/train_X.npy')\n",
    "Y = np.array([np.load('./data/train_y.npy')]).T"
   ]
  },
  {
   "cell_type": "markdown",
   "metadata": {
    "id": "-9j3in3odIle"
   },
   "source": [
    "Normalization / Standardization"
   ]
  },
  {
   "cell_type": "code",
   "execution_count": 7,
   "metadata": {
    "id": "iaYuScGvdEum"
   },
   "outputs": [],
   "source": [
    "def normalize(X):\n",
    "  \"\"\"\n",
    "  Implement Normalization for input image features\n",
    "\n",
    "  Args:\n",
    "  X : numpy array of shape (n_samples, 784)\n",
    "   \n",
    "  Returns:\n",
    "  X_norm : numpy array of shape (n_samples, 784) after normalization\n",
    "  \"\"\"\n",
    "  X_norm = None\n",
    "  \n",
    "  ## TODO\n",
    "  X_norm = np.zeros(X.shape)\n",
    "  \n",
    "  for i in range(X.shape[1]):\n",
    "    if np.std(X[:, i]) != 0:\n",
    "        X_norm[:, i] = (X[:, i] - np.mean(X[:, i]))/np.std(X[:,i])\n",
    "    \n",
    "  ## END TODO\n",
    "\n",
    "  assert X_norm.shape == X.shape\n",
    "\n",
    "  return X_norm\n",
    "\n",
    "def scaling(X):\n",
    "  \"\"\"\n",
    "  Implement MinMax Scaling on input image features\n",
    "\n",
    "  Args:\n",
    "  X : numpy array of shape (n_samples, 784)\n",
    "   \n",
    "  Returns:\n",
    "  X_scaled : numpy array of shape (n_samples, 784)\n",
    "  \"\"\"\n",
    "  X_scaled = None\n",
    "\n",
    "  ##TODO\n",
    "  X_scaled = np.zeros(X.shape)\n",
    "  \n",
    "  for i in range(X.shape[1]):\n",
    "    if np.max(X[:,i] != np.min(X[:,i])):\n",
    "        X_scaled[:, i] = (X[:, i] - np.min(X[:, i]))/(np.max(X[:,i]) - np.min(X[:,i]))\n",
    "  \n",
    "  ##END TODO\n",
    "  \n",
    "  assert X_scaled.shape == X.shape\n",
    "\n",
    "  return X_scaled"
   ]
  },
  {
   "cell_type": "markdown",
   "metadata": {
    "id": "ejROq-52YUol"
   },
   "source": [
    "### Split data into train/val"
   ]
  },
  {
   "cell_type": "code",
   "execution_count": 8,
   "metadata": {
    "id": "l07sJgZ3XG-N"
   },
   "outputs": [],
   "source": [
    "def split_data(X, Y, train_ratio=0.8):\n",
    "    '''\n",
    "    Split data into train and validation sets\n",
    "    The first floor(train_ratio*n_sample) samples form the train set\n",
    "    and the remaining the test set\n",
    "\n",
    "    Args:\n",
    "    X - numpy array of shape (n_samples, n_features)\n",
    "    Y - numpy array of shape (n_samples, 1)\n",
    "    train_ratio - fraction of samples to be used as training data\n",
    "\n",
    "    Returns:\n",
    "    X_train, Y_train, X_val, Y_val\n",
    "    '''\n",
    "    # Try Normalization and scaling and store it in X_transformed\n",
    "    X_transformed = X\n",
    "\n",
    "    ## TODO\n",
    "    \n",
    "    X = normalize(X)\n",
    "    X_transformed = scaling(X)\n",
    "    \n",
    "    ## END TODO\n",
    "\n",
    "    assert X_transformed.shape == X.shape\n",
    "\n",
    "    num_samples = len(X)\n",
    "    indices = np.arange(num_samples)\n",
    "    num_train_samples = math.floor(num_samples * train_ratio)\n",
    "    train_indices = np.random.choice(indices, num_train_samples, replace=False)\n",
    "    val_indices = list(set(indices) - set(train_indices))\n",
    "    X_train, Y_train, X_val, Y_val = X_transformed[train_indices], Y[train_indices], X_transformed[val_indices], Y[val_indices]\n",
    "  \n",
    "    return X_train, Y_train, X_val, Y_val"
   ]
  },
  {
   "cell_type": "markdown",
   "metadata": {
    "id": "ZT-b4s1Kb6eL"
   },
   "source": [
    "**Plotting image**"
   ]
  },
  {
   "cell_type": "code",
   "execution_count": 9,
   "metadata": {
    "id": "6jlAZLOtY73s"
   },
   "outputs": [],
   "source": [
    "def plot_image(x, y, idx):\n",
    "  \"\"\"\n",
    "  Plot the given feature vector into image of size 28 X 28 \n",
    "  note that originally the image was of size 28*28 which is flattened or unrolled\n",
    "  to 784 X 1 feature vector\n",
    "\n",
    "  Args:\n",
    "  x : numpy array of images\n",
    "  y : numpy array of ground truth labels for images\n",
    "  idx : index of the image\n",
    "  \"\"\"\n",
    "\n",
    "  image = np.reshape(x[idx], (28,28))\n",
    "  plt.imshow(image, interpolation='nearest')\n",
    "  plt.show()\n",
    "  print (f'The ground truth label for this iamge is : {y[idx]}')"
   ]
  },
  {
   "cell_type": "markdown",
   "metadata": {
    "id": "xkI57T5zdsci"
   },
   "source": [
    "Encode 1 for any one of the class and 0 to all other remaining class for all labels"
   ]
  },
  {
   "cell_type": "code",
   "execution_count": 10,
   "metadata": {
    "id": "XlRACMv1WggK"
   },
   "outputs": [],
   "source": [
    "def get_data_for_class(X,Y,id):\n",
    "  \"\"\"\n",
    "  Args:\n",
    "  X : numpy array of input features, shape - (n_samples x 784)\n",
    "  Y : numpy array of input targets, shape - (n_samples x 1)\n",
    "  id : class id (one of 1,4,7,9)\n",
    "\n",
    "  Returns:\n",
    "  class_X : numpy array of input features, shape - (n_samples x 784)\n",
    "  class_Y : numpy array of input targets, where class_Y[i]=1 if Y[i]=id else class_Y[i]=0, shape - (n_samples x 784)\n",
    "  \"\"\"\n",
    "  class_X, class_Y = None, None\n",
    "\n",
    "  ##TODO\n",
    "  \n",
    "  class_X = X\n",
    "  class_Y = np.array([1 if y == id else 0 for y in Y]) \n",
    "  class_Y = class_Y.reshape(Y.shape)\n",
    "  \n",
    "  ##END TODO\n",
    "\n",
    "  assert class_X.shape == X.shape and class_Y.shape == Y.shape\n",
    "\n",
    "  return class_X, class_Y"
   ]
  },
  {
   "cell_type": "markdown",
   "metadata": {
    "id": "YFhZGe-2djbu"
   },
   "source": [
    "Random Sampling"
   ]
  },
  {
   "cell_type": "code",
   "execution_count": 11,
   "metadata": {
    "id": "CKCNwUdgdi91"
   },
   "outputs": [],
   "source": [
    "def sample_training_points(X, y, sample_size):\n",
    "  \"\"\"\n",
    "  Takes input features, targets and sample size, and returns random sample of size = sample_size\n",
    "\n",
    "  Args: \n",
    "  X : numpy array of shape (n_samples , n_features)\n",
    "  y : numpy array of shape (n_samples , 1)\n",
    "  \n",
    "  Returns: \n",
    "  sampled_X : numpy array of shape (sample_size , n_eatures)\n",
    "  sampled_y : numpy array of shape (sample_size , 1)\n",
    "\n",
    "  \"\"\"\n",
    "  sampled_X , sampled_y = None, None\n",
    "  \n",
    "  ##TODO\n",
    "  n = int(sample_size)\n",
    "  data = np.column_stack((X, y))\n",
    "        \n",
    "  data = np.random.permutation(data)\n",
    "  data_sample = data[:n, :]\n",
    "  \n",
    "  col_size = data.shape[1]\n",
    "  sampled_y = data_sample[:, col_size-1] \n",
    "  sampled_X = data_sample[:, :col_size-1]\n",
    "  sampled_y = sampled_y.reshape((n,1))\n",
    "    \n",
    "  ##END TODO\n",
    "\n",
    "  assert sampled_X.shape==(sample_size,X.shape[1]) and sampled_y.shape==(sample_size,1)\n",
    "  \n",
    "  return sampled_X, sampled_y"
   ]
  },
  {
   "cell_type": "markdown",
   "metadata": {
    "id": "lE4aGEKSf_mo"
   },
   "source": [
    "LOGISTIC REGRESSION CLASSIFIER"
   ]
  },
  {
   "cell_type": "code",
   "execution_count": 12,
   "metadata": {
    "id": "MmQHu4nYgksD"
   },
   "outputs": [],
   "source": [
    "def sigmoid(weights, bias, X):\n",
    "  \"\"\"\n",
    "  Implement logistic/ sigmoid function\n",
    "\n",
    "  Args:\n",
    "  weights : numpy array of shape (n_dimension , 1)\n",
    "  bias : scaler\n",
    "  X : numpy array of shape (n_samples , n_dimension)\n",
    "\n",
    "  Returns: \n",
    "  Y_sigmoid : numpy array of shape (n_samples, 1)\n",
    "  \"\"\"\n",
    "  Y_sigmoid = None\n",
    "\n",
    "  ##TODO\n",
    "  Y = np.matmul(X, weights) + bias\n",
    "  Y_sigmoid = 1/(1 + np.exp(-1*Y))\n",
    "  Y_sigmoid = Y_sigmoid.reshape((X.shape[0], 1))\n",
    "  \n",
    "  ##END TODO\n",
    "  assert Y_sigmoid.shape == (X.shape[0],1)\n",
    "\n",
    "  return Y_sigmoid\n",
    "\n",
    "def cross_entropy_loss(weights, bias, X, y):\n",
    "  \"\"\"\n",
    "  Takes input features, weights, bias and target \n",
    "  and calculates binary cross entropy loss between y and predicted values of y.\n",
    "\n",
    "  Args:\n",
    "  weights : numpy array of shape (n_features, 1)\n",
    "  bias : scalar\n",
    "  X : numpy array of shape (n_samples, 1)\n",
    "  y : numpy array of shape (n_samples, 1)\n",
    "  \n",
    "  Returns :\n",
    "  loss : single float value\n",
    "  \"\"\"\n",
    "  loss = 0.0\n",
    "\n",
    "  ##TODO\n",
    "\n",
    "  y_pred = np.matmul(X, weights) + bias\n",
    "  loss = np.sum(np.multiply(y, y_pred) - np.log(1+np.exp(y_pred)))\n",
    "  loss = -1*(loss/(y.shape[0]))\n",
    "    \n",
    "  ##END TODO\n",
    "  \n",
    "  return loss\n",
    "  \n",
    "def grad(X, y, weights, bias):\n",
    "\n",
    "  \"\"\"\n",
    "  Return gradient for weights and biases\n",
    "\n",
    "  Args:\n",
    "  X : numpy array of shape (n_samples , n_dimension)\n",
    "  y : numpy array of shape (n_samples , 1)\n",
    "  weights : numpy array of shape (n_dimension , 1)\n",
    "  bias : scalar\n",
    "\n",
    "  Returns: \n",
    "  gradient : [dw , db]\n",
    "              dw - numpy array of shape (n_dimension , 1)\n",
    "              db - numpy array of shape (1)\n",
    "  \"\"\"\n",
    "\n",
    "  dw , db = None , None\n",
    "\n",
    "  ##TODO\n",
    "  \n",
    "  n = int(X.shape[0])\n",
    "  dw = (1/n)*(np.matmul(X.T, (y - sigmoid(weights,bias,X))))\n",
    "  db = (1/n)*np.sum(y - sigmoid(weights,bias,X))\n",
    "    \n",
    "  dw = dw.reshape(weights.shape)\n",
    "  db = db.reshape(1)\n",
    "  \n",
    "  ##END TODO\n",
    "\n",
    "  assert dw.shape == weights.shape \n",
    "\n",
    "  gradient = [dw , db]\n",
    "\n",
    "  return gradient\n",
    "\n",
    "def logistic_regression(X, y, epoch, lr, sample_size):\n",
    "  \"\"\"\n",
    "  Args :\n",
    "\n",
    "  X : numpy array of inpuy features of shape (n_samples, n_features)\n",
    "  y : numpy array of targets of shape (n_samples, 1)\n",
    "  epochs : number of iterations of training\n",
    "  lr : learning_rate\n",
    "  sample_size : batch_size for each iteration\n",
    "\n",
    "  Returns : \n",
    "  loss : list containg loss for each epoch\n",
    "  weights : numpy array of shape (n_features, 1)\n",
    "  bias :  scaler\n",
    "  \"\"\"\n",
    "\n",
    "  loss, weights, bias = [], None, 0\n",
    "  #define weights and bias (w, b) initialize the weight\n",
    "\n",
    "  ##TODO\n",
    "  weights = np.zeros((X.shape[1], 1))\n",
    "  for i in range(epoch):\n",
    "        \n",
    "    samp_X, samp_Y = sample_training_points(X, y, sample_size)\n",
    "    gradient = grad(samp_X, samp_Y, weights, bias)\n",
    "\n",
    "    weights = weights + lr*gradient[0]\n",
    "    bias = bias + lr*gradient[1]\n",
    "    \n",
    "    loss.append(cross_entropy_loss(weights, bias, X, y))\n",
    "    \n",
    "  ##TODO\n",
    "  assert len(loss) == epoch and weights.shape == (X.shape[1],1)\n",
    "\n",
    "  return [loss, weights, bias]\n",
    "\n",
    "def train_multi_class(X, Y):\n",
    "  \"\"\"\n",
    "  make multi class classifier using binary classification (1 vs all)\n",
    "\n",
    "  Args:\n",
    "  X : numpy array of input features of shape (n_samples, n_features)\n",
    "  Y : numpy array of input features of shape (n_samples, 1)\n",
    "\n",
    "  Returns:\n",
    "\n",
    "  param_list : list of param for all classifiers, where param = [weights, bias]\n",
    "  loss_list : list of lists of losses of all classifiers for all epochs\n",
    "  \"\"\"\n",
    "\n",
    "  digits = [1,4,7,9]\n",
    "  param_list = []\n",
    "  loss_list = []\n",
    "\n",
    "\n",
    "  #train i vs all weights and bias, where i in {1,4,7,9}\n",
    "  epochs , lr , sample_size = 500, 0.01, 120\n",
    "\n",
    "  for i in digits:\n",
    "    X_train, Y_train = get_data_for_class(X, Y, id=i)\n",
    "    output = logistic_regression(X_train, Y_train, epochs, lr, sample_size)\n",
    "    param_list.append(output[1:]) \n",
    "    loss_list.append(output[0])   \n",
    "\n",
    "  return param_list, loss_list"
   ]
  },
  {
   "cell_type": "code",
   "execution_count": 13,
   "metadata": {
    "id": "w96QeoELvelA"
   },
   "outputs": [],
   "source": [
    "def to_class(predicts):\n",
    "  \"\"\"\n",
    "  Args: \n",
    "  predicts : numpy array of shape (n_samples, 4)\n",
    "  \n",
    "  Return:\n",
    "  predicted classes : numpy array of shape(num_samples, class_id), where class_id in {1,4,7,9}\n",
    "  \n",
    "  \"\"\"\n",
    "  labels = {0:1, 1:4, 2:7, 3:9}\n",
    "  predicted_class = []\n",
    "  for i in range(predicts.shape[0]):\n",
    "    label = np.argmax(predicts[i])\n",
    "    predicted_class.append(labels[label])\n",
    "\n",
    "  return np.array(predicted_class).reshape(len(predicted_class),1)\n",
    "\n",
    "def prediction(param, X):\n",
    "  \"\"\"\n",
    "  It return the array of predicted class for all samples in X                                    \n",
    "\n",
    "  Args: \n",
    "  param[0] = [w,b] of class 1 vs all\n",
    "  param[1] = [w,b] of class 4 vs all\n",
    "  param[2] = [w,b] of class 7 vs all\n",
    "  param[3] = [w,b] of class 9 vs all\n",
    "\n",
    "  X = numpy array of input features, shape (n_samples , 784)\n",
    "\n",
    "  Returns:\n",
    "  predicts = numpy array for shape (n_samples , 4), \n",
    "             where predicts[i][j] is probablity that sample i belongs to class j when using classifer j vs all\n",
    "\n",
    "  \"\"\"\n",
    "\n",
    "  predicts = None\n",
    "\n",
    "  ##TODO\n",
    "  predicts = np.zeros((X.shape[0], 4))\n",
    "  for i in range(4):\n",
    "    temp = sigmoid(param[i][0], param[i][1], X)\n",
    "    predicts[:, i] = temp.reshape(temp.shape[0])\n",
    "  \n",
    "  ##END TODO\n",
    "  assert predicts.shape == (X.shape[0],4)\n",
    "\n",
    "  return predicts"
   ]
  },
  {
   "cell_type": "code",
   "execution_count": 14,
   "metadata": {
    "id": "2om8E02u579X"
   },
   "outputs": [],
   "source": [
    "def accuracy(Y_pred, Y_true):\n",
    "\n",
    "  '''\n",
    "  This functions calculates accuracy for -\n",
    "    1) each of the 4 class \n",
    "    2) whole dataset\n",
    "    Note : Do not report in percentage\n",
    "\n",
    "  Args:\n",
    "  Y_pred : Predicted class labels, numpy array of shape (n_samples , 1)\n",
    "  Y_true : True/Actual class labels, numpy array of shape (n_samples , 1)\n",
    "\n",
    "  Returns:\n",
    "  list of length 5, 1 st value is overall accuracy followed by accuracy of all 4 individual classifies\n",
    "  '''\n",
    "  \n",
    "  total_accuracy = np.sum(Y_pred==Y_true)/Y_true.shape[0]\n",
    "  accuracy_1 , accuracy_4 , accuracy_7 , accuracy_9 = 0, 0, 0, 0\n",
    "  #TODO\n",
    "  \n",
    "  ids = []\n",
    "  for i in range(Y_true.shape[0]):\n",
    "        if Y_pred[i] == Y_true[i]:\n",
    "            ids.append(i)\n",
    "            \n",
    "  accuracy_1 = np.sum((Y_pred==1)==(Y_true==1))/Y_true.shape[0]\n",
    "  accuracy_4 = np.sum((Y_pred==4)==(Y_true==4))/Y_true.shape[0]\n",
    "  accuracy_7 = np.sum((Y_pred==7)==(Y_true==7))/Y_true.shape[0]\n",
    "  accuracy_9 = np.sum((Y_pred==9)==(Y_true==9))/Y_true.shape[0]\n",
    "    \n",
    "  ##END TO\n",
    "\n",
    "  print(\"Total Accuray : \", total_accuracy) \n",
    "  print(\"Accuray class 1 : \", accuracy_1) \n",
    "  print(\"Accuray class 4 : \", accuracy_4) \n",
    "  print(\"Accuray class 7 : \", accuracy_7) \n",
    "  print(\"Accuray class 9 : \", accuracy_9) \n",
    "\n",
    "  return [total_accuracy, accuracy_1, accuracy_4, accuracy_7, accuracy_9]"
   ]
  },
  {
   "cell_type": "code",
   "execution_count": 15,
   "metadata": {
    "id": "sl9_jRs0bsU5"
   },
   "outputs": [],
   "source": [
    "def calculate_metrics(Y_pred, Y_true):\n",
    "\n",
    "  '''\n",
    "  This functions calculates precision, recall and f1-score for -\n",
    "    1) each of the 4 class \n",
    "    2) whole dataset\n",
    "    Note : Do not report in percentage\n",
    "\n",
    "  Args:\n",
    "  Y_pred : Predicted class labels, numpy array of shape (n_samples , 1)\n",
    "  Y_true : True/Actual class labels, numpy array of shape (n_samples , 1)\n",
    "\n",
    "  Returns:\n",
    "  (precision , recall , f1_score) : a tuple of 3 lists i.e. precison, recall and f1_score where\n",
    "          precision : list of length 5, 1 st value is overall precison followed by precision of all 4 individual classes\n",
    "          recall : list of length 5, 1 st value is overall recall followed by recall of all 4 individual classes\n",
    "          f1_score : list of length 5, 1 st value is overall f1-score followed by f1-score of all 4 individual classes\n",
    "  '''\n",
    "\n",
    "  precision , recall , f1_score = [], [] ,[]\n",
    "\n",
    "  ## TODO\n",
    "  ids = []\n",
    "  for i in range(Y_true.shape[0]):\n",
    "        if Y_pred[i] == Y_true[i]:\n",
    "            ids.append(i)\n",
    "  \n",
    "  tp_1 = np.sum([1 if Y_pred[i] == 1 else 0 for i in ids])\n",
    "  prec_den_1 = np.sum(Y_pred == 1)\n",
    "  rec_den_1 = np.sum(Y_true == 1)\n",
    "  prec_1 = tp_1/prec_den_1\n",
    "  rec_1 = tp_1/rec_den_1\n",
    "  f_1 = (2*prec_1*rec_1)/(prec_1+rec_1)\n",
    "  \n",
    "  tp_4 = np.sum([1 if Y_pred[i] == 4 else 0 for i in ids])\n",
    "  prec_den_4 = np.sum(Y_pred == 4)\n",
    "  rec_den_4 = np.sum(Y_true == 4)\n",
    "  prec_4 = tp_4/prec_den_4\n",
    "  rec_4 = tp_4/rec_den_4\n",
    "  f_4 = (2*prec_4*rec_4)/(prec_4+rec_4)\n",
    "\n",
    "  tp_7 = np.sum([1 if Y_pred[i] == 7 else 0 for i in ids])\n",
    "  prec_den_7 = np.sum(Y_pred == 7)\n",
    "  rec_den_7 = np.sum(Y_true == 7)\n",
    "  prec_7 = tp_7/prec_den_7\n",
    "  rec_7 = tp_7/rec_den_7\n",
    "  f_7 = (2*prec_7*rec_7)/(prec_7+rec_7)\n",
    "\n",
    "  tp_9 = np.sum([1 if Y_pred[i] == 9 else 0 for i in ids])\n",
    "  prec_den_9 = np.sum(Y_pred == 9)\n",
    "  rec_den_9 = np.sum(Y_true == 9)\n",
    "  prec_9 = tp_9/prec_den_9\n",
    "  rec_9 = tp_9/rec_den_9\n",
    "  f_9 = (2*prec_9*rec_9)/(prec_9+rec_9)\n",
    "\n",
    "  prec = (rec_den_1*prec_1 + rec_den_4*prec_4 + rec_den_7*prec_7 + rec_den_9*prec_9)/(Y_true.shape[0])\n",
    "  rec = (rec_den_1*rec_1 + rec_den_4*rec_4 + rec_den_7*rec_7 + rec_den_9*rec_9)/(Y_true.shape[0])\n",
    "  f = (rec_den_1*f_1 + rec_den_4*f_4 + rec_den_7*f_7 + rec_den_9*f_9)/(Y_true.shape[0])\n",
    "  \n",
    "  precision = [prec, prec_1, prec_4, prec_7, prec_9]\n",
    "  recall = [rec, rec_1, rec_4, rec_7, rec_9]\n",
    "  f1_score = [f, f_1, f_4, f_7, f_9]\n",
    "  \n",
    "\n",
    "  ## END TODO\n",
    "\n",
    "  assert len(precision)==5 and len(recall)==5 and len(f1_score)==5\n",
    "  return (precision, recall, f1_score)"
   ]
  },
  {
   "cell_type": "code",
   "execution_count": 16,
   "metadata": {
    "id": "q82oEeRF-guz"
   },
   "outputs": [],
   "source": [
    "def plot_training_loss(loss_list):\n",
    "  labels = [\"1\", \"4\", \"7\", \"9\"]\n",
    "  for ids, loss in enumerate(loss_list):\n",
    "    plt.plot(loss, label = labels[ids])\n",
    "  plt.legend(loc='best')\n",
    "  plt.title('Training Loss of each class (1 vs all)')\n",
    "  plt.show()"
   ]
  },
  {
   "cell_type": "code",
   "execution_count": 17,
   "metadata": {
    "id": "nyVYAPhtm_At"
   },
   "outputs": [],
   "source": [
    "X_train, Y_train, X_val, Y_val = split_data(X,Y)\n",
    "param_lists, loss_list = train_multi_class(X_train, Y_train)"
   ]
  },
  {
   "cell_type": "markdown",
   "metadata": {
    "id": "c9kL6ByDgZyI"
   },
   "source": [
    "## Plot curve for loss"
   ]
  },
  {
   "cell_type": "code",
   "execution_count": 18,
   "metadata": {
    "id": "PC3lGdUy-jek",
    "scrolled": true
   },
   "outputs": [
    {
     "data": {
      "image/png": "[encoded data removed]",
      "text/plain": [
       "<Figure size 432x288 with 1 Axes>"
      ]
     },
     "metadata": {
      "needs_background": "light"
     },
     "output_type": "display_data"
    }
   ],
   "source": [
    "plot_training_loss(loss_list)"
   ]
  },
  {
   "cell_type": "markdown",
   "metadata": {
    "id": "UVkva3PIgcsu"
   },
   "source": [
    "## Calculate accuracy, precision , recall and F1-score"
   ]
  },
  {
   "cell_type": "code",
   "execution_count": 19,
   "metadata": {
    "id": "XNTZuQF8nDTD"
   },
   "outputs": [],
   "source": [
    "Y_pred = to_class( prediction(param_lists, X_val) )"
   ]
  },
  {
   "cell_type": "code",
   "execution_count": 20,
   "metadata": {
    "id": "slH97B8L0iHR",
    "scrolled": true
   },
   "outputs": [
    {
     "name": "stdout",
     "output_type": "stream",
     "text": [
      "Total Accuray :  0.915\n",
      "Accuray class 1 :  0.9825\n",
      "Accuray class 4 :  0.9575\n",
      "Accuray class 7 :  0.955\n",
      "Accuray class 9 :  0.935\n"
     ]
    },
    {
     "data": {
      "text/plain": [
       "[0.915, 0.9825, 0.9575, 0.955, 0.935]"
      ]
     },
     "execution_count": 20,
     "metadata": {},
     "output_type": "execute_result"
    }
   ],
   "source": [
    "accuracy(Y_pred, Y_val)"
   ]
  },
  {
   "cell_type": "code",
   "execution_count": 21,
   "metadata": {
    "id": "NLSImjxiweiV"
   },
   "outputs": [],
   "source": [
    "precision, recall, f1_score = calculate_metrics(Y_pred, Y_val)"
   ]
  },
  {
   "cell_type": "code",
   "execution_count": null,
   "metadata": {},
   "outputs": [],
   "source": []
  },
  {
   "cell_type": "code",
   "execution_count": null,
   "metadata": {},
   "outputs": [],
   "source": []
  },
  {
   "cell_type": "code",
   "execution_count": null,
   "metadata": {},
   "outputs": [],
   "source": []
  }
 ],
 "metadata": {
  "colab": {
   "collapsed_sections": [],
   "name": "assignment_3.ipynb",
   "provenance": []
  },
  "kernelspec": {
   "display_name": "Python 3",
   "language": "python",
   "name": "python3"
  },
  "language_info": {
   "codemirror_mode": {
    "name": "ipython",
    "version": 3
   },
   "file_extension": ".py",
   "mimetype": "text/x-python",
   "name": "python",
   "nbconvert_exporter": "python",
   "pygments_lexer": "ipython3",
   "version": "3.8.10"
  }
 },
 "nbformat": 4,
 "nbformat_minor": 1
}
